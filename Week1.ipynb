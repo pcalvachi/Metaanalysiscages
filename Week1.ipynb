{
  "nbformat": 4,
  "nbformat_minor": 0,
  "metadata": {
    "colab": {
      "name": "Week1",
      "provenance": [],
      "collapsed_sections": [],
      "include_colab_link": true
    },
    "kernelspec": {
      "name": "python3",
      "display_name": "Python 3"
    }
  },
  "cells": [
    {
      "cell_type": "markdown",
      "metadata": {
        "id": "view-in-github",
        "colab_type": "text"
      },
      "source": [
        "<a href=\"https://colab.research.google.com/github/pcalvachi/Metaanalysiscages/blob/master/Week1.ipynb\" target=\"_parent\"><img src=\"https://colab.research.google.com/assets/colab-badge.svg\" alt=\"Open In Colab\"/></a>"
      ]
    },
    {
      "cell_type": "markdown",
      "metadata": {
        "id": "KH9jvECQOLnC"
      },
      "source": [
        "#Week 1 Lab: Machine Learning in Python\n",
        "\n",
        "In this example, we will generate some simulated data, fit a logistic regression and random forest models, and evaluate the performance of the models\n",
        "\n",
        "Examples from: https://scikit-learn.org/stable/documentation.html\n",
        "\n",
        "Kun-Hsing Yu\n",
        "\n",
        "March 15, 2021"
      ]
    },
    {
      "cell_type": "markdown",
      "metadata": {
        "id": "rqiIal9NzLTB"
      },
      "source": [
        "## Part 1. Simulate a dataset and train a logistic regression model"
      ]
    },
    {
      "cell_type": "code",
      "metadata": {
        "id": "Ty9g3hbDNo6r"
      },
      "source": [
        "# import the required packages\n",
        "from sklearn.linear_model import LogisticRegression\n",
        "from sklearn.datasets import make_classification\n",
        "\n",
        "from sklearn.metrics import confusion_matrix"
      ],
      "execution_count": null,
      "outputs": []
    },
    {
      "cell_type": "code",
      "metadata": {
        "id": "EiXrpxEJN8kN",
        "colab": {
          "base_uri": "https://localhost:8080/",
          "height": 85
        },
        "outputId": "50619350-0320-4004-81e0-b1553499aee4"
      },
      "source": [
        "# generate simulated data\n",
        "n_train = 2000\n",
        "n_test = 500\n",
        "n_classes = 2\n",
        "X, y = make_classification(n_samples=n_train+n_test, n_features=10,\n",
        "                           n_classes=n_classes,\n",
        "                           n_informative=2, n_redundant=0,\n",
        "                           random_state=1, shuffle=True)\n",
        "X_train = X[0:n_train,:]\n",
        "y_train = y[0:n_train]\n",
        "X_test = X[n_train:(n_train+n_test),:]\n",
        "y_test = y[n_train:(n_train+n_test)]\n",
        "print(X_train.shape)\n",
        "print(y_train.shape)\n",
        "print(X_test.shape)\n",
        "print(y_test.shape)"
      ],
      "execution_count": null,
      "outputs": [
        {
          "output_type": "stream",
          "text": [
            "(2000, 10)\n",
            "(2000,)\n",
            "(500, 10)\n",
            "(500,)\n"
          ],
          "name": "stdout"
        }
      ]
    },
    {
      "cell_type": "code",
      "metadata": {
        "id": "H3QRzCe2a3OI"
      },
      "source": [
        "# fit the logistic regression model\n",
        "# note that only the training data X_train and y_train should be used in the training process\n",
        "clf_lr = LogisticRegression(random_state=0, solver='lbfgs').fit(X_train, y_train)"
      ],
      "execution_count": null,
      "outputs": []
    },
    {
      "cell_type": "code",
      "metadata": {
        "id": "V7s30xCbbNyH"
      },
      "source": [
        "# get prediction\n",
        "y_predicted = clf_lr.predict(X_test)"
      ],
      "execution_count": null,
      "outputs": []
    },
    {
      "cell_type": "markdown",
      "metadata": {
        "id": "ODo45mxhyp-U"
      },
      "source": [
        "## Quiz Question 1\n",
        "How to get the predicted probability for each sample in the validation set?\n",
        "\n",
        "Hint: https://scikit-learn.org/stable/modules/generated/sklearn.linear_model.LogisticRegression.html#sklearn.linear_model.LogisticRegression.predict_proba\n"
      ]
    },
    {
      "cell_type": "code",
      "metadata": {
        "id": "MpBBO0gZbYNT"
      },
      "source": [
        "# Your codes here\n",
        "############################################################\n"
      ],
      "execution_count": null,
      "outputs": []
    },
    {
      "cell_type": "markdown",
      "metadata": {
        "id": "DiTJ_yI8y26U"
      },
      "source": [
        "##Quiz Question 2\n",
        "\n",
        "Generate the confusion matrix.\n",
        "\n",
        "Hint: https://scikit-learn.org/stable/modules/generated/sklearn.metrics.confusion_matrix.html"
      ]
    },
    {
      "cell_type": "code",
      "metadata": {
        "id": "px7b4zDubcPV"
      },
      "source": [
        "# Your codes here\n",
        "############################################################\n"
      ],
      "execution_count": null,
      "outputs": []
    },
    {
      "cell_type": "markdown",
      "metadata": {
        "id": "LXe9ADy015il"
      },
      "source": [
        "##Quiz Question 3\n",
        "\n",
        "Obtain the betas and intercept.\n",
        "\n",
        "Hint: https://scikit-learn.org/stable/modules/generated/sklearn.linear_model.LinearRegression.html#sklearn.linear_model.LinearRegression"
      ]
    },
    {
      "cell_type": "code",
      "metadata": {
        "id": "-iQO3pad1_7K"
      },
      "source": [
        "# Your codes here\n",
        "############################################################\n"
      ],
      "execution_count": null,
      "outputs": []
    },
    {
      "cell_type": "markdown",
      "metadata": {
        "id": "XErzpOJ8bOKL"
      },
      "source": [
        "## Part 2. Train a random forest model"
      ]
    },
    {
      "cell_type": "code",
      "metadata": {
        "id": "GWrUk-JacHQD"
      },
      "source": [
        "# load the package\n",
        "from sklearn.ensemble import RandomForestClassifier"
      ],
      "execution_count": null,
      "outputs": []
    },
    {
      "cell_type": "markdown",
      "metadata": {
        "id": "G5wT_ZJ3zd7x"
      },
      "source": [
        "## Quiz Question 4\n",
        "\n",
        "Define and fit a random forest model.\n",
        "\n",
        "Hint: https://scikit-learn.org/stable/modules/generated/sklearn.ensemble.RandomForestClassifier.html\n"
      ]
    },
    {
      "cell_type": "code",
      "metadata": {
        "id": "JNhB1Er7x4Pv"
      },
      "source": [
        "# Your codes here\n",
        "#clf_rf = SomeFunction()\n",
        "\n",
        "############################################################\n"
      ],
      "execution_count": null,
      "outputs": []
    },
    {
      "cell_type": "code",
      "metadata": {
        "id": "ehIuRfnZO_0t"
      },
      "source": [
        "# get prediction\n",
        "y_predicted = clf_rf.predict(X_test)"
      ],
      "execution_count": null,
      "outputs": []
    },
    {
      "cell_type": "code",
      "metadata": {
        "id": "eKM1HO2DTT5u"
      },
      "source": [
        "# get predicted probability\n",
        "y_score = clf_rf.predict_proba(X_test)"
      ],
      "execution_count": null,
      "outputs": []
    },
    {
      "cell_type": "code",
      "metadata": {
        "id": "ESKgPJtdQCDW"
      },
      "source": [
        "# generate the confusion matrix (from quiz question 2)\n",
        "\n",
        "############################################################\n"
      ],
      "execution_count": null,
      "outputs": []
    },
    {
      "cell_type": "markdown",
      "metadata": {
        "id": "uI_76Q6e0Sb6"
      },
      "source": [
        "## Quiz Question 5\n",
        "Obtain the feature importance."
      ]
    },
    {
      "cell_type": "code",
      "metadata": {
        "id": "Mzq-ULtL0Rbu"
      },
      "source": [
        "# Your codes here\n",
        "\n",
        "############################################################\n"
      ],
      "execution_count": null,
      "outputs": []
    },
    {
      "cell_type": "markdown",
      "metadata": {
        "id": "VxwdKiuE0d7w"
      },
      "source": [
        "## Quiz Question 6\n",
        "\n",
        "Generate the ROC curve.\n",
        "\n",
        "Hint: https://scikit-learn.org/stable/auto_examples/model_selection/plot_roc.html"
      ]
    },
    {
      "cell_type": "code",
      "metadata": {
        "id": "JBwXHfKaUzUk"
      },
      "source": [
        "from sklearn.metrics import roc_curve, auc\n",
        "import matplotlib.pyplot as plt\n",
        "\n",
        "\n",
        "# Your codes here\n",
        "############################################################\n"
      ],
      "execution_count": null,
      "outputs": []
    }
  ]
}