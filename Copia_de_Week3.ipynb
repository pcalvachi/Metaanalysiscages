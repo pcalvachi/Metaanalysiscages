{
  "nbformat": 4,
  "nbformat_minor": 0,
  "metadata": {
    "colab": {
      "name": "Copia de Week3.ipynb",
      "provenance": [],
      "collapsed_sections": [],
      "include_colab_link": true
    },
    "kernelspec": {
      "name": "python3",
      "display_name": "Python 3"
    }
  },
  "cells": [
    {
      "cell_type": "markdown",
      "metadata": {
        "id": "view-in-github",
        "colab_type": "text"
      },
      "source": [
        "<a href=\"https://colab.research.google.com/github/pcalvachi/Metaanalysiscages/blob/master/Copia_de_Week3.ipynb\" target=\"_parent\"><img src=\"https://colab.research.google.com/assets/colab-badge.svg\" alt=\"Open In Colab\"/></a>"
      ]
    },
    {
      "cell_type": "markdown",
      "metadata": {
        "id": "ZlKfUT1M3yHv"
      },
      "source": [
        "#Lecture 3 Lab: Convolutional Neural Networks\n",
        "\n",
        "In this example, we will use Keras to develop convolutional neural network models.\n",
        "\n",
        "Here's an example of transfer learning for image classification. We replace the last layer of inceptionV3 with a custom classification layer, which allows user-defined categories not present in the ImageNet challenge.\n",
        "In this example, we are going to use ImageNet models to classify dogs and cats (https://www.kaggle.com/c/dogs-vs-cats). A subset of the images could be found at https://www.dropbox.com/sh/sun8qns27gb9hkc/AAAySZPWAioQM6GQIor-xKtZa?dl=0.\n",
        "\n",
        "Tailored from examples in the Keras documentation: https://keras.io/\n",
        "\n",
        "\n",
        "\n",
        "Kun-Hsing Yu\n",
        "\n",
        "Updated and simplified on April 3, 2021"
      ]
    },
    {
      "cell_type": "code",
      "metadata": {
        "id": "dOQPyXcF3GhM"
      },
      "source": [
        "# import tensorflow backend and keras\n",
        "import tensorflow as tf\n",
        "\n",
        "# using inception_V3 in this example, also works on other pre-trained models \n",
        "from tensorflow.keras.applications.inception_v3 import InceptionV3\n",
        "from tensorflow.keras.preprocessing import image\n",
        "from tensorflow.keras.models import Model\n",
        "from tensorflow.keras.layers import Dense, GlobalAveragePooling2D\n",
        "from tensorflow.keras import backend as K\n"
      ],
      "execution_count": null,
      "outputs": []
    },
    {
      "cell_type": "markdown",
      "metadata": {
        "id": "sETZUq5VdEjp"
      },
      "source": [
        "### Download the example images"
      ]
    },
    {
      "cell_type": "code",
      "metadata": {
        "id": "iJTy6QMCdG8P"
      },
      "source": [
        "!wget https://www.dropbox.com/s/v4vxu296ad9h69y/train.tar\n",
        "!wget https://www.dropbox.com/s/hp25txiaxbdfvv0/validation.tar\n",
        "!tar -xf train.tar\n",
        "!tar -xf validation.tar"
      ],
      "execution_count": null,
      "outputs": []
    },
    {
      "cell_type": "markdown",
      "metadata": {
        "id": "7_jWjR8BjBWh"
      },
      "source": [
        "## Quiz Question 1\n",
        "What's in the dataset?"
      ]
    },
    {
      "cell_type": "code",
      "metadata": {
        "id": "e_ifn3zbiSzc"
      },
      "source": [
        "# Your answer here\n",
        "############################################################\n"
      ],
      "execution_count": null,
      "outputs": []
    },
    {
      "cell_type": "markdown",
      "metadata": {
        "id": "PBxszY9HcViA"
      },
      "source": [
        "## Quiz Question 2\n",
        "Please load the InceptionV3 model as the base model.\n",
        "\n",
        "Hint: https://keras.io/applications/#fine-tune-inceptionv3-on-a-new-set-of-classes"
      ]
    },
    {
      "cell_type": "code",
      "metadata": {
        "id": "9NmnI-HPcUyk"
      },
      "source": [
        "# Your codes here\n",
        "############################################################\n",
        "\n",
        "# in this example, we will use inception V3 as the base model.\n",
        "# you will have the chance to try a number of ImageNet models in Assignment 2.\n",
        "base_model = \"Please fill me in\"\n"
      ],
      "execution_count": null,
      "outputs": []
    },
    {
      "cell_type": "markdown",
      "metadata": {
        "id": "FZ65MxHofiF1"
      },
      "source": [
        "## Quiz Question 3\n",
        "Add a logistic layer for binary classification\n",
        "\n",
        "Hint: https://keras.io/applications/#fine-tune-inceptionv3-on-a-new-set-of-classes"
      ]
    },
    {
      "cell_type": "code",
      "metadata": {
        "id": "-2w0qQ9bfeQ2"
      },
      "source": [
        "# Your codes here\n",
        "############################################################\n",
        "\n",
        "# get the output of the base model\n",
        "x = base_model.output\n",
        "# add a 2D global average pooling layer\n",
        "x = GlobalAveragePooling2D()(x)\n",
        "# add a layer for binary classification\n",
        "predictions = \"Please fill me in\"\n",
        "\n",
        "# define the model to be trained\n",
        "model = Model(inputs=base_model.input, outputs=predictions)\n"
      ],
      "execution_count": null,
      "outputs": []
    },
    {
      "cell_type": "markdown",
      "metadata": {
        "id": "fcDQ5jlM7w0P"
      },
      "source": [
        "###To fix the layers in the base model.\n",
        "It is useful if you don't have a lot of data. If you have sufficient data, you can also backpropagate into the layers in the base model after the last layers were trained."
      ]
    },
    {
      "cell_type": "code",
      "metadata": {
        "id": "AH7Pydb53tVl"
      },
      "source": [
        "# only train the added layers, but not the layers in the base model\n",
        "for layer in base_model.layers:\n",
        "    layer.trainable = False\n"
      ],
      "execution_count": null,
      "outputs": []
    },
    {
      "cell_type": "markdown",
      "metadata": {
        "id": "COS1CTLpcemO"
      },
      "source": [
        "## Quiz Question 4\n",
        "Compile the model.\n",
        "Why do we need to compile the model?\n",
        "\n",
        "Hint: https://keras.io/models/model/#compile"
      ]
    },
    {
      "cell_type": "code",
      "metadata": {
        "id": "RaUlx3Ch3w0y"
      },
      "source": [
        "# Your answer and codes here\n",
        "############################################################\n"
      ],
      "execution_count": null,
      "outputs": []
    },
    {
      "cell_type": "markdown",
      "metadata": {
        "id": "tc3AI-pN63g_"
      },
      "source": [
        "###Define data pre-processing methods for the training and the test set"
      ]
    },
    {
      "cell_type": "code",
      "metadata": {
        "id": "CtFLOiBz7A0P"
      },
      "source": [
        "from keras.preprocessing.image import ImageDataGenerator\n",
        "\n",
        "train_datagen = ImageDataGenerator(\n",
        "        rescale=1./255,\n",
        "        shear_range=0.2,\n",
        "        zoom_range=0.2,\n",
        "        horizontal_flip=True)\n",
        "\n",
        "test_datagen = ImageDataGenerator(rescale=1./255)\n",
        "\n",
        "# define the batch size, if there is sufficient GPU memory, you can increase the batch size\n",
        "batch_size = 16"
      ],
      "execution_count": null,
      "outputs": []
    },
    {
      "cell_type": "markdown",
      "metadata": {
        "id": "Ga8JcB3Acqzs"
      },
      "source": [
        "###Define the methods to load the image from directories\n",
        "Please put your training data under the 'train' directory, with images with label \"0\" under 'train/0' and images with label \"1\" under 'train/1'; put validation data under the 'validation' directory, with images with label \"0\" under 'validation/0' and images with label \"1\" under 'validation/1'"
      ]
    },
    {
      "cell_type": "code",
      "metadata": {
        "id": "xNhGV49ncsz_"
      },
      "source": [
        "train_generator = train_datagen.flow_from_directory(\n",
        "        'train',  # the directory for the training data\n",
        "        target_size=(150, 150),  # resize the input images to accommodate the model\n",
        "        batch_size=batch_size,\n",
        "        class_mode='binary')\n",
        "\n",
        "\n",
        "validation_generator = test_datagen.flow_from_directory(\n",
        "        'validation', # the directory for the validation data\n",
        "        target_size=(150, 150),\n",
        "        batch_size=batch_size,\n",
        "        class_mode='binary')\n"
      ],
      "execution_count": null,
      "outputs": []
    },
    {
      "cell_type": "markdown",
      "metadata": {
        "id": "-GwJeQhf5C6S"
      },
      "source": [
        "### Train the model"
      ]
    },
    {
      "cell_type": "code",
      "metadata": {
        "id": "U1LI2wQN3xVa"
      },
      "source": [
        "# please change nTraining to the number of training cases and nValidation to the number of validation cases\n",
        "nTraining = 2000\n",
        "nValidation = 200\n",
        "model.fit_generator(\n",
        "        train_generator,\n",
        "        steps_per_epoch=nTraining // batch_size,\n",
        "        epochs=5,\n",
        "        validation_data=validation_generator,\n",
        "        validation_steps=nValidation // batch_size)"
      ],
      "execution_count": null,
      "outputs": []
    },
    {
      "cell_type": "markdown",
      "metadata": {
        "id": "zFNSLDFvd6xh"
      },
      "source": [
        "## Quiz Question 5\n",
        "How to accelerate the training process?"
      ]
    },
    {
      "cell_type": "code",
      "metadata": {
        "id": "3jjcUpcwd_7w"
      },
      "source": [
        "# Your answer here\n",
        "############################################################\n"
      ],
      "execution_count": null,
      "outputs": []
    },
    {
      "cell_type": "markdown",
      "metadata": {
        "id": "vIi0qZ_vc0dO"
      },
      "source": [
        "### Generate predictions on the validation set"
      ]
    },
    {
      "cell_type": "code",
      "metadata": {
        "id": "GnYjzqHd5ZNf"
      },
      "source": [
        "generator = test_datagen.flow_from_directory(\n",
        "        'validation',\n",
        "        target_size=(150, 150),\n",
        "        batch_size=100,\n",
        "        class_mode=None,\n",
        "        shuffle=False)\n",
        "\n",
        "probabilities = model.predict(generator, steps=2)\n"
      ],
      "execution_count": null,
      "outputs": []
    },
    {
      "cell_type": "markdown",
      "metadata": {
        "id": "UuPtaAYc7Q8z"
      },
      "source": [
        "### Generate the confusion matrix"
      ]
    },
    {
      "cell_type": "code",
      "metadata": {
        "id": "j0kotVW96u-m"
      },
      "source": [
        "import numpy as np\n",
        "from sklearn.metrics import confusion_matrix\n",
        "\n",
        "y_true = np.array([0] * 100 + [1] * 100)\n",
        "y_pred = probabilities > 0.5\n",
        "\n",
        "confusion_matrix_inceptionV3 = confusion_matrix(y_true, y_pred)\n",
        "print(confusion_matrix_inceptionV3)"
      ],
      "execution_count": null,
      "outputs": []
    },
    {
      "cell_type": "markdown",
      "metadata": {
        "id": "oIOzFshYhmnP"
      },
      "source": [
        "## Quiz Question 6\n",
        "What's the validation accuracy based on y_pred?"
      ]
    },
    {
      "cell_type": "code",
      "metadata": {
        "id": "bjMWz1RchhAE"
      },
      "source": [
        "# Your codes here\n",
        "############################################################\n"
      ],
      "execution_count": null,
      "outputs": []
    }
  ]
}