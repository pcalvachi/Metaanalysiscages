{
  "nbformat": 4,
  "nbformat_minor": 0,
  "metadata": {
    "colab": {
      "name": "Lecture2.ipynb",
      "provenance": [],
      "include_colab_link": true
    },
    "kernelspec": {
      "name": "python3",
      "display_name": "Python 3"
    }
  },
  "cells": [
    {
      "cell_type": "markdown",
      "metadata": {
        "id": "view-in-github",
        "colab_type": "text"
      },
      "source": [
        "<a href=\"https://colab.research.google.com/github/pcalvachi/Metaanalysiscages/blob/master/Lecture2.ipynb\" target=\"_parent\"><img src=\"https://colab.research.google.com/assets/colab-badge.svg\" alt=\"Open In Colab\"/></a>"
      ]
    },
    {
      "cell_type": "markdown",
      "metadata": {
        "id": "ZlKfUT1M3yHv"
      },
      "source": [
        "#Lecture 2 Lab: Perceptron and Introduction to Keras\n",
        "\n",
        "In this example, we will implement perceptron from scratch and use Keras to develop a multi-layer model\n",
        "\n",
        "Examples from: BMI707 Lecture 2 Lab (Spring 2018), https://scikit-learn.org/stable/documentation.html, and https://keras.io/"
      ]
    },
    {
      "cell_type": "markdown",
      "metadata": {
        "id": "ex1YsYAr4zgT"
      },
      "source": [
        "## Part 1. Perceptron\n",
        "\n",
        "Here we will implement a perceptron from scratch. We will start with defining four data points as the input and build a perceptron to model them."
      ]
    },
    {
      "cell_type": "code",
      "metadata": {
        "id": "dOQPyXcF3GhM"
      },
      "source": [
        "# import numpy and define the input data\n",
        "import numpy as np\n",
        "\n",
        "X = np.array([[0,0], [0,1], [1,0], [1,1]])\n",
        "y = np.array([0, 1, 1, 0])"
      ],
      "execution_count": null,
      "outputs": []
    },
    {
      "cell_type": "markdown",
      "metadata": {
        "id": "WZOmSHzRPcJ5"
      },
      "source": [
        "## Quiz Question 1\n",
        "What logic gate can perfectly model the relation between X and y above?"
      ]
    },
    {
      "cell_type": "code",
      "metadata": {
        "id": "1b6gCWJEPbvl"
      },
      "source": [
        "# Your answer here\n",
        "############################################################\n"
      ],
      "execution_count": null,
      "outputs": []
    },
    {
      "cell_type": "markdown",
      "metadata": {
        "id": "fcDQ5jlM7w0P"
      },
      "source": [
        "##Quiz Question 2\n",
        "\n",
        "Here we will implement a perceptron from scratch. Please fill in the codes below for grad_w1, grad_w2, grad_b, w_new[0], w_new[1], and b_new."
      ]
    },
    {
      "cell_type": "code",
      "metadata": {
        "id": "AH7Pydb53tVl"
      },
      "source": [
        "# Please remove the placeholder (in quotations) and fill in the codes below for grad_w1, grad_w2, grad_b, w_new[0], w_new[1], and b_new.\n",
        "############################################################\n",
        "def train(X, y, w, b, iters, lr=1):\n",
        "    w_new = np.copy(w)\n",
        "    b_new = np.copy(b)\n",
        "    \n",
        "    for i in range(iters):\n",
        "        preds = 1 / (1 + np.exp( -(np.dot(X,w_new) + b_new)))\n",
        "        grad_w1 = \"please fill me in\"\n",
        "        grad_w2 = \"fill me in as well\"\n",
        "        grad_b = \"don't leave me out\"\n",
        "        \n",
        "        w_new[0] = \"please fill me in\"\n",
        "        w_new[1] = \"fill me in as well\"\n",
        "        b_new = \"don't leave me out\"\n",
        "        error = (y - preds)**2\n",
        "        acc = len(np.where(np.round(preds) == y)[0])/float(len(y))\n",
        "        print(\"Error at iteration \" + str(i) + \": \" + str(np.mean(error)) + '\\t' + \"Accuracy: \" + str(acc))\n",
        "    \n",
        "    return w_new, b_new"
      ],
      "execution_count": null,
      "outputs": []
    },
    {
      "cell_type": "code",
      "metadata": {
        "id": "RaUlx3Ch3w0y"
      },
      "source": [
        "# to initialize the weights and train the model\n",
        "w = np.array([1.,-1.])\n",
        "b = 0.\n",
        "train(X, y, w, b, iters=100, lr=0.1)"
      ],
      "execution_count": null,
      "outputs": []
    },
    {
      "cell_type": "markdown",
      "metadata": {
        "id": "tc3AI-pN63g_"
      },
      "source": [
        "## Quiz Question 3\n",
        "Why are we stuck at 0.75 in the training accuracy?"
      ]
    },
    {
      "cell_type": "code",
      "metadata": {
        "id": "CtFLOiBz7A0P"
      },
      "source": [
        "# Your answer here\n",
        "############################################################\n"
      ],
      "execution_count": null,
      "outputs": []
    },
    {
      "cell_type": "markdown",
      "metadata": {
        "id": "-GwJeQhf5C6S"
      },
      "source": [
        "## Part 2. Introduction to Keras\n",
        "\n",
        "To simulate a dataset and build multi-layer neural network classifiers using Keras"
      ]
    },
    {
      "cell_type": "code",
      "metadata": {
        "id": "U1LI2wQN3xVa",
        "colab": {
          "base_uri": "https://localhost:8080/",
          "height": 85
        },
        "outputId": "6ba1988c-fa65-445e-e3c4-921e41850c59"
      },
      "source": [
        "# generate simulated data as in Lecture 1 Lab\n",
        "from sklearn.datasets import make_classification\n",
        "\n",
        "n_train = 2000\n",
        "n_val = 500\n",
        "n_classes = 2\n",
        "X, y = make_classification(n_samples=n_train+n_val, n_features=10,\n",
        "                           n_classes=n_classes,\n",
        "                           n_informative=2, n_redundant=0,\n",
        "                           random_state=1, shuffle=True)\n",
        "X_train = X[0:n_train,:]\n",
        "y_train = y[0:n_train]\n",
        "X_val = X[n_train:(n_train+n_val),:]\n",
        "y_val = y[n_train:(n_train+n_val)]\n",
        "\n",
        "print(X_train.shape)\n",
        "print(y_train.shape)\n",
        "print(X_val.shape)\n",
        "print(y_val.shape)"
      ],
      "execution_count": null,
      "outputs": [
        {
          "output_type": "stream",
          "text": [
            "(2000, 10)\n",
            "(2000,)\n",
            "(500, 10)\n",
            "(500,)\n"
          ],
          "name": "stdout"
        }
      ]
    },
    {
      "cell_type": "markdown",
      "metadata": {
        "id": "gWQPYyzKQ157"
      },
      "source": [
        "## Quiz Question 4\n",
        "Build a sequential model in Keras. Please fill in the code below.\n",
        "\n",
        "Hint: https://keras.io/getting-started/sequential-model-guide/"
      ]
    },
    {
      "cell_type": "code",
      "metadata": {
        "id": "GnYjzqHd5ZNf"
      },
      "source": [
        "import keras\n",
        "from keras.models import Sequential\n",
        "from keras.layers import Dense, Dropout, Activation\n",
        "from keras.optimizers import SGD\n",
        "\n",
        "# Your code here\n",
        "############################################################\n"
      ],
      "execution_count": null,
      "outputs": []
    },
    {
      "cell_type": "markdown",
      "metadata": {
        "id": "UuPtaAYc7Q8z"
      },
      "source": [
        "## Quiz Question 5\n",
        "How to add more layers to the model above?"
      ]
    },
    {
      "cell_type": "code",
      "metadata": {
        "id": "VRIWY6r0ROSD"
      },
      "source": [
        "# Your code here\n",
        "############################################################\n"
      ],
      "execution_count": null,
      "outputs": []
    },
    {
      "cell_type": "markdown",
      "metadata": {
        "id": "piz07x2DhhvC"
      },
      "source": [
        "## Quiz Question 6\n",
        "What's the validation loss and accuracy?\n",
        "\n",
        "Hint: https://keras.io/models/model/#evaluate"
      ]
    },
    {
      "cell_type": "code",
      "metadata": {
        "id": "j0kotVW96u-m"
      },
      "source": [
        "# Your code here\n",
        "############################################################\n"
      ],
      "execution_count": null,
      "outputs": []
    }
  ]
}